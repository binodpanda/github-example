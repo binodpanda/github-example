{
    "cells": [
        {
            "metadata": {
                "collapsed": true
            },
            "cell_type": "markdown",
            "source": "## <center>The Battle of the Neighborhoods (Week 1)</center>"
        },
        {
            "metadata": {},
            "cell_type": "markdown",
            "source": "## 1. Introduction and business Problem"
        },
        {
            "metadata": {},
            "cell_type": "markdown",
            "source": "###  Problem Background:"
        },
        {
            "metadata": {},
            "cell_type": "markdown",
            "source": "The City of Machester is the second biggest city in the United Kingdom. It is:\n* A multicultural and multi-ethnic populated city. \n* Second most peoples from Asia are leaving in this city.\n* Famous for the different business operations and official hub.  \n* Various businesses are playing in the market in Manchester. \n* The city is a significant center for retailing, world trade, transportation, tourism, real estate, media, advertising, legal services, accountancy, insurance, fashion, and the arts in the United Kingdom.\n\nThis also means that the market is highly competitive. As it is a highly developed city, so the cost of doing business is also one of the highest.\nThus, any new business venture or expansion needs to be analyzed carefully. The insights derived from the analysis will give a good understanding of the business environment, which helps in strategically targeting the market. This will help in the reduction of risk. And the Return on Investment will be reasonable."
        },
        {
            "metadata": {},
            "cell_type": "markdown",
            "source": "###  Problem Description:"
        },
        {
            "metadata": {},
            "cell_type": "markdown",
            "source": "There are lot of Asian business are operating in this city, A restaurant is one of the business mostly India resturants which prepares and serves food and drink to customers. It also offers the take away and homedelivery services. Most of British peoples are like India cusine, and most busiest time is weekends and holidays. The main challenge is there alot of Indian resturant but few of them are genuine. Generally peoples are searching Indian resturant with different factors like<Br> \n1. Resturants should have maintain hygnic.<Br> \n2. It should have serving some british cusin, like chips.<Br>\n3. Free home deliver with less minimum ordering cap.<Br>\n4. Neared to bus stop and easily accessable.<Br>\n5. Good hospitality.<Br>\n6. The foods are prepared from halal.<Br>\n\nSo it is evident that to survive in this competitive market it is very important to startegically plan. Various factors need to be studied inorder to decide on the Location such as : <Br>\n1. Asian Population <Br>\n2. Manchester Demographics <Br>\n2. In which area of the city mostly Asians live?<Br>\n3. Are there any bus or metro stop near by? <Br>\n4. Who are the competitors in that location? <Br>\n5. Menu of the competitors. <Br>\n6. Any gathering places near by? <Br>\n7. How soon people can came to know about this resturant. <Br>\n8. Franchise of resturant if any.<Br>\nThe list can go on...\n    \nEventhough well funded Company, need to choose the correct location to start its first venture."
        },
        {
            "metadata": {},
            "cell_type": "markdown",
            "source": "### Target Audience:"
        },
        {
            "metadata": {},
            "cell_type": "markdown",
            "source": "The owner of the resturant and its management.\n\nThis would interest anyone who wants to start a new restaurant in Manchester city."
        },
        {
            "metadata": {},
            "cell_type": "markdown",
            "source": "###  Success Criteria:"
        },
        {
            "metadata": {},
            "cell_type": "markdown",
            "source": "The success criteria of the project will be a good recommendation of location choice to start the resturant with successful business."
        },
        {
            "metadata": {},
            "cell_type": "markdown",
            "source": "## 2. Data Collection"
        },
        {
            "metadata": {},
            "cell_type": "markdown",
            "source": "On this problem the only data will be analysed on the city map of mancheseter, which can be found from wiki page https://en.wikipedia.org/wiki/M_postcode_area. \nfrom this page :\n  * Scarp the postcode district, local authority and coverage area.\n  * Create a dataframe from this data.\n  * Using foursquare, cluster the various location  of Indian resturant.\n  * Identify where large number of resturant is present.\n  * Identify the bus stops, metro stops on that area.\n  * Identify any public events places near by.\n  * Any nearest Indian grocery shop for easy purchase of the raw materials.\n  * Identify home delivery areas."
        },
        {
            "metadata": {},
            "cell_type": "code",
            "source": "",
            "execution_count": null,
            "outputs": []
        }
    ],
    "metadata": {
        "kernelspec": {
            "name": "python3",
            "display_name": "Python 3.6",
            "language": "python"
        },
        "language_info": {
            "name": "python",
            "version": "3.6.9",
            "mimetype": "text/x-python",
            "codemirror_mode": {
                "name": "ipython",
                "version": 3
            },
            "pygments_lexer": "ipython3",
            "nbconvert_exporter": "python",
            "file_extension": ".py"
        }
    },
    "nbformat": 4,
    "nbformat_minor": 1
}
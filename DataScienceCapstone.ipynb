{
 "cells": [
  {
   "cell_type": "markdown",
   "metadata": {},
   "source": [
    "##  <center>Applied Data Science Capstone</center>\n",
    "### <center><u>Lab Note Book</u></center>\n",
    "This notebook represents the lab or assignment work for 'Applied Data Science' Capstone course. This course is for five weeks as listed below. Green represents till the week the assignment completed.\n",
    "\n",
    "<font color=green>**Week 1 - Introduction to Capstone Project**</font>\n",
    "\n",
    "<font color=yellow>Week 2 - Foursquare API</font>\n",
    "\n",
    "<font color=yellow>Week 3 - Neighborhood Segmentation and Clustering</font>\n",
    "\n",
    "<font color=yellow>Week 4 - Capstone Project</font>\n",
    "\n",
    "<font color=yellow>Week 5 - Capstone Project (Cont'd)</font>\n"
   ]
  },
  {
   "cell_type": "code",
   "execution_count": 4,
   "metadata": {},
   "outputs": [
    {
     "name": "stdout",
     "output_type": "stream",
     "text": [
      "Hello Capstone Project Course!\n"
     ]
    }
   ],
   "source": [
    "\n",
    "import pandas as pd\n",
    "import numpy as np\n",
    "print(\"Hello Capstone Project Course!\")"
   ]
  },
  {
   "cell_type": "code",
   "execution_count": null,
   "metadata": {},
   "outputs": [],
   "source": []
  }
 ],
 "metadata": {
  "kernelspec": {
   "display_name": "Python 3.6",
   "language": "python",
   "name": "python3"
  },
  "language_info": {
   "codemirror_mode": {
    "name": "ipython",
    "version": 3
   },
   "file_extension": ".py",
   "mimetype": "text/x-python",
   "name": "python",
   "nbconvert_exporter": "python",
   "pygments_lexer": "ipython3",
   "version": "3.6.9"
  }
 },
 "nbformat": 4,
 "nbformat_minor": 1
}
